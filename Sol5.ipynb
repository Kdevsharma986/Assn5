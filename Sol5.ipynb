{
 "cells": [
  {
   "cell_type": "code",
   "execution_count": null,
   "id": "bc4f85bb-0b4d-4d14-8c5d-58dcf33a2910",
   "metadata": {},
   "outputs": [],
   "source": [
    "\"\"\"In Python, inheritance is a mechanism that allows a class to inherit properties and behaviors from another class. \n",
    "The class that inherits from another class is called a subclass or derived class,\n",
    "and the class being inherited from is called a superclass or base class.\n",
    "Inheritance promotes code reuse and facilitates creating specialized classes based on existing ones.\n",
    "\n",
    "1. Single Inheritance:\n",
    "Single inheritance involves a subclass inheriting from a single superclass. \n",
    "It represents a \"is-a\" relationship, where the subclass is a specific type of the superclass. \n",
    "The subclass inherits all the attributes and methods of the superclass and can also define its own unique attributes and methods.\"\"\""
   ]
  },
  {
   "cell_type": "code",
   "execution_count": 1,
   "id": "ac25a070-75f6-4412-b690-edbd0f9fb650",
   "metadata": {},
   "outputs": [
    {
     "name": "stdout",
     "output_type": "stream",
     "text": [
      "Toyota\n",
      "Driving the vehicle\n",
      "Honking the car\n"
     ]
    }
   ],
   "source": [
    "class Vehicle:\n",
    "    def __init__(self, brand):\n",
    "        self.brand = brand\n",
    "\n",
    "    def drive(self):\n",
    "        print(\"Driving the vehicle\")\n",
    "\n",
    "class Car(Vehicle):\n",
    "    def __init__(self, brand, model):\n",
    "        super().__init__(brand)\n",
    "        self.model = model\n",
    "\n",
    "    def honk(self):\n",
    "        print(\"Honking the car\")\n",
    "\n",
    "car = Car(\"Toyota\", \"Camry\")\n",
    "print(car.brand) \n",
    "car.drive() \n",
    "car.honk()  "
   ]
  },
  {
   "cell_type": "code",
   "execution_count": null,
   "id": "74bfb66c-2c5a-4b09-a42e-d22ea238cf82",
   "metadata": {},
   "outputs": [],
   "source": [
    "\"\"\"Multiple Inheritance:\n",
    "Multiple inheritance involves a subclass inheriting from multiple superclasses. \n",
    "It allows a class to inherit attributes and methods from multiple classes.\n",
    "Multiple inheritance is useful when a class needs to combine behaviors from different sources.\"\"\""
   ]
  },
  {
   "cell_type": "code",
   "execution_count": 2,
   "id": "ac5e7fec-a32b-443d-98b4-170f735bbd98",
   "metadata": {},
   "outputs": [
    {
     "name": "stdout",
     "output_type": "stream",
     "text": [
      "Breathing\n",
      "Swimming\n"
     ]
    }
   ],
   "source": [
    "class Animal:\n",
    "    def breathe(self):\n",
    "        print(\"Breathing\")\n",
    "\n",
    "class Swimmer:\n",
    "    def swim(self):\n",
    "        print(\"Swimming\")\n",
    "\n",
    "class Dolphin(Animal, Swimmer):\n",
    "    pass\n",
    "\n",
    "dolphin = Dolphin()\n",
    "dolphin.breathe()  \n",
    "dolphin.swim()  "
   ]
  },
  {
   "cell_type": "code",
   "execution_count": null,
   "id": "28d71bad-e639-4263-923d-ed88354f42b0",
   "metadata": {},
   "outputs": [],
   "source": []
  }
 ],
 "metadata": {
  "kernelspec": {
   "display_name": "Python 3 (ipykernel)",
   "language": "python",
   "name": "python3"
  },
  "language_info": {
   "codemirror_mode": {
    "name": "ipython",
    "version": 3
   },
   "file_extension": ".py",
   "mimetype": "text/x-python",
   "name": "python",
   "nbconvert_exporter": "python",
   "pygments_lexer": "ipython3",
   "version": "3.10.8"
  }
 },
 "nbformat": 4,
 "nbformat_minor": 5
}
