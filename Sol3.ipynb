{
 "cells": [
  {
   "cell_type": "code",
   "execution_count": null,
   "id": "8049b5e0-9bcf-42c1-b154-55c9454fa3e2",
   "metadata": {},
   "outputs": [],
   "source": [
    "\"\"\"The __init__() function in Python is a special method used as a constructor for initializing objects of a class.\n",
    "It is called automatically when a new instance (object) of the class is created. \n",
    "The purpose of the __init__() method is to set up the initial state of the object by initializing its attributes or performing\n",
    "any other necessary setup operations.\n",
    "\n",
    "Here's an example to illustrate the use of the __init__() method:\"\"\""
   ]
  },
  {
   "cell_type": "code",
   "execution_count": 1,
   "id": "adc138d6-43dc-4e55-96f8-f37612d93f91",
   "metadata": {},
   "outputs": [
    {
     "name": "stdout",
     "output_type": "stream",
     "text": [
      "Name: Alice, Age: 25\n",
      "Name: Bob, Age: 30\n"
     ]
    }
   ],
   "source": [
    "class Person:\n",
    "    def __init__(self, name, age):\n",
    "        self.name = name\n",
    "        self.age = age\n",
    "\n",
    "    def display_info(self):\n",
    "        print(f\"Name: {self.name}, Age: {self.age}\")\n",
    "\n",
    "\n",
    "person1 = Person(\"Alice\", 25)\n",
    "person2 = Person(\"Bob\", 30)\n",
    "\n",
    "person1.display_info()  \n",
    "person2.display_info()  "
   ]
  },
  {
   "cell_type": "code",
   "execution_count": null,
   "id": "c383318d-fee7-4fbd-8cd6-f2944ff1b700",
   "metadata": {},
   "outputs": [],
   "source": []
  }
 ],
 "metadata": {
  "kernelspec": {
   "display_name": "Python 3 (ipykernel)",
   "language": "python",
   "name": "python3"
  },
  "language_info": {
   "codemirror_mode": {
    "name": "ipython",
    "version": 3
   },
   "file_extension": ".py",
   "mimetype": "text/x-python",
   "name": "python",
   "nbconvert_exporter": "python",
   "pygments_lexer": "ipython3",
   "version": "3.10.8"
  }
 },
 "nbformat": 4,
 "nbformat_minor": 5
}
