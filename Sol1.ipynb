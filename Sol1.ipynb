{
 "cells": [
  {
   "cell_type": "code",
   "execution_count": null,
   "id": "5e419160-f956-49d4-b4c4-abaf962f569e",
   "metadata": {},
   "outputs": [],
   "source": [
    "I\"\"\"In object-oriented programming (OOP), a class is a blueprint or a template for creating objects. \n",
    "It defines a set of attributes and methods that the objects of that class will possess. \n",
    "An object, on the other hand, is an instance of a class. \n",
    "It represents a real-world entity or concept and can interact with other objects and perform actions based on the defined methods.\"\"\""
   ]
  },
  {
   "cell_type": "code",
   "execution_count": 2,
   "id": "905f7c47-90a9-4ea9-b917-2af7bba6801a",
   "metadata": {},
   "outputs": [],
   "source": [
    "class Car:\n",
    "    def __init__(self, make, model, year):\n",
    "        self.make = make\n",
    "        self.model = model\n",
    "        self.year = year\n",
    "        self.speed = 0\n",
    "        \n",
    "    def accelerate(self, increment):\n",
    "        self.speed += increment\n",
    "        \n",
    "    def brake(self, decrement):\n",
    "        self.speed -= decrement\n",
    "        \n",
    "    def get_speed(self):\n",
    "        return self.speed"
   ]
  },
  {
   "cell_type": "code",
   "execution_count": 4,
   "id": "ac553818-266c-44b2-8d3e-ca216fbe5901",
   "metadata": {},
   "outputs": [
    {
     "name": "stdout",
     "output_type": "stream",
     "text": [
      "20\n",
      "30\n",
      "15\n",
      "20\n"
     ]
    }
   ],
   "source": [
    "car1 = Car(\"Toyota\", \"Camry\", 2020)\n",
    "car2 = Car(\"Honda\", \"Civic\", 2021)\n",
    "\n",
    "car1.accelerate(20)\n",
    "car2.accelerate(30)\n",
    "\n",
    "print(car1.get_speed())  \n",
    "print(car2.get_speed())  \n",
    "\n",
    "car1.brake(5)\n",
    "car2.brake(10)\n",
    "\n",
    "print(car1.get_speed())  \n",
    "print(car2.get_speed())  "
   ]
  },
  {
   "cell_type": "code",
   "execution_count": null,
   "id": "3d72a041-a86e-4255-a59c-5bacadc75930",
   "metadata": {},
   "outputs": [],
   "source": []
  }
 ],
 "metadata": {
  "kernelspec": {
   "display_name": "Python 3 (ipykernel)",
   "language": "python",
   "name": "python3"
  },
  "language_info": {
   "codemirror_mode": {
    "name": "ipython",
    "version": 3
   },
   "file_extension": ".py",
   "mimetype": "text/x-python",
   "name": "python",
   "nbconvert_exporter": "python",
   "pygments_lexer": "ipython3",
   "version": "3.10.8"
  }
 },
 "nbformat": 4,
 "nbformat_minor": 5
}
